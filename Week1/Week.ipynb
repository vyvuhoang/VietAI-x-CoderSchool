{
 "cells": [
  {
   "cell_type": "markdown",
   "id": "444d4cd3",
   "metadata": {},
   "source": [
    "# Exercise 1"
   ]
  },
  {
   "cell_type": "code",
   "execution_count": 9,
   "id": "8a825a5a",
   "metadata": {},
   "outputs": [
    {
     "name": "stdout",
     "output_type": "stream",
     "text": [
      "{'negative': [-10, -21, -4, -45, -66, -4, -6], 'positive': [93, 11, 12, 11, 4]}\n"
     ]
    }
   ],
   "source": [
    "# Ex1: Write a program to count positive and negative numbers in a list\n",
    "data1 = [-10, -21, -4, -45, -66, 93, 11, -4, -6, 12, 11, 4]\n",
    "\n",
    "def pos_neg_count(data : list):\n",
    "    ret = {}\n",
    "    for x in data:\n",
    "        if x < 0:\n",
    "            ret['negative'] = [x for x in data if x < 0]\n",
    "        else:\n",
    "            ret['positive'] = [x for x in data if x >= 0]\n",
    "\n",
    "    return ret\n",
    "\n",
    "print(pos_neg_count(data1))"
   ]
  },
  {
   "cell_type": "markdown",
   "id": "5efd9f6c",
   "metadata": {},
   "source": [
    "# Exercise 2"
   ]
  },
  {
   "cell_type": "code",
   "execution_count": 10,
   "id": "55f64f91",
   "metadata": {},
   "outputs": [
    {
     "name": "stdout",
     "output_type": "stream",
     "text": [
      "[4, 3]\n",
      "[4, 3]\n"
     ]
    }
   ],
   "source": [
    "# Ex2: Given a list, extract all elements whose frequency is greater than k.\n",
    "data2 = [4, 6, 4, 3, 3, 4, 3, 4, 3, 8]\n",
    "k = 3\n",
    "\n",
    "def frequency(data: list, k: int):\n",
    "    if k <= 0:\n",
    "        return []\n",
    "    \n",
    "    ref = {}\n",
    "    for num in data:\n",
    "        if num not in ref:\n",
    "            ref[num] = 1\n",
    "            continue\n",
    "        ref[num] += 1\n",
    "\n",
    "    return [key for key, val in ref.items() if val > k]\n",
    "\n",
    "print(frequency(data2, 3))\n",
    "# or use built-in Default dict\n",
    "from collections import defaultdict\n",
    "def frequency2(data: list, k: int):\n",
    "    if k <= 0:\n",
    "        return []\n",
    "    ref = defaultdict(int)\n",
    "    for num in data:\n",
    "        ref[num] += 1\n",
    "    \n",
    "    return [key for key, val in ref.items() if val > k]\n",
    "\n",
    "print(frequency2(data2, 3))\n",
    "        "
   ]
  },
  {
   "cell_type": "markdown",
   "id": "809e604f",
   "metadata": {},
   "source": [
    "# Exercise 3"
   ]
  },
  {
   "cell_type": "code",
   "execution_count": 11,
   "id": "261fb4ca",
   "metadata": {},
   "outputs": [
    {
     "name": "stdout",
     "output_type": "stream",
     "text": [
      "20\n"
     ]
    }
   ],
   "source": [
    "# Ex3: find the strongest neighbour. Given an array of N positive integers.\n",
    "# The task is to find the maximum for every adjacent pair in the array.\n",
    "data3 = [4, 5, 6, 7, 3, 9, 11, 2, 10]\n",
    "\n",
    "import sys\n",
    "def strongest_neighbour(data: list):\n",
    "    if len(data) < 1:\n",
    "        return None\n",
    "\n",
    "    elif len(data) < 3:\n",
    "        return sum(data)\n",
    "    \n",
    "    max = -sys.maxsize\n",
    "    for idx in range(len(data) - 2):\n",
    "        if data[idx] + data[idx + 1] > max:\n",
    "            max = data[idx] + data[idx + 1]\n",
    "    \n",
    "    return max\n",
    "\n",
    "print(strongest_neighbour(data3))\n"
   ]
  },
  {
   "cell_type": "markdown",
   "id": "0f6d44b6",
   "metadata": {},
   "source": [
    "# Exercise 4"
   ]
  },
  {
   "cell_type": "code",
   "execution_count": 12,
   "id": "bd4592e2",
   "metadata": {},
   "outputs": [
    {
     "name": "stdout",
     "output_type": "stream",
     "text": [
      "[(1, 2, 3), (1, 3, 2), (2, 1, 3), (2, 3, 1), (3, 1, 2), (3, 2, 1)]\n"
     ]
    }
   ],
   "source": [
    "# Ex4: print all Possible Combinations from the three Digits\n",
    "import itertools as it\n",
    "\n",
    "data4 = [1, 2, 3]\n",
    "print([x for x in it.permutations(data4, r=len(data4))])"
   ]
  },
  {
   "cell_type": "markdown",
   "id": "50470ca9",
   "metadata": {},
   "source": [
    "# Exercise 5"
   ]
  },
  {
   "cell_type": "code",
   "execution_count": 13,
   "id": "18ff641f",
   "metadata": {},
   "outputs": [
    {
     "name": "stdout",
     "output_type": "stream",
     "text": [
      "[[4, 3, 5, 1, 3], [1, 2, 3, 9, 3, 5, 7], [3, 7, 4, 8]]\n"
     ]
    }
   ],
   "source": [
    "# Ex5: Given two matrices (2 nested lists), the task is to write a Python program\n",
    "# to add elements to each row from initial matrix.\n",
    "# For example: Input : test_list1 = [[4, 3, 5,], [1, 2, 3], [3, 7, 4]], test_list2 = [[1], [9], [8]]\n",
    "# Output : [[4, 3, 5, 1], [1, 2, 3, 9], [3, 7, 4, 8]]\n",
    "data5_list1 = [[4, 3, 5, ], [1, 2, 3], [3, 7, 4]]\n",
    "data5_list2 = [[1, 3], [9, 3, 5, 7], [8]]\n",
    "\n",
    "\n",
    "def add_maxtrices(data1: list, data2: list):\n",
    "    if len(data1) != len(data2):\n",
    "        return None\n",
    "\n",
    "    ret = []\n",
    "    for idx in range(len(data1)):\n",
    "        ret.append(data1[idx] + data2[idx])\n",
    "    return ret\n",
    "\n",
    "\n",
    "print(add_maxtrices(data5_list1, data5_list2))"
   ]
  },
  {
   "cell_type": "markdown",
   "id": "cfa5c314",
   "metadata": {},
   "source": [
    "# Exercise 6"
   ]
  },
  {
   "cell_type": "code",
   "execution_count": 14,
   "id": "3148bbe9",
   "metadata": {},
   "outputs": [
    {
     "name": "stdout",
     "output_type": "stream",
     "text": [
      "2002,2009,2016,2023,2037,2044,2051,2058,2072,2079,2086,2093,2107,2114,2121,2128,2142,2149,2156,2163,2177,2184,2191,2198,2212,2219,2226,2233,2247,2254,2261,2268,2282,2289,2296,2303,2317,2324,2331,2338,2352,2359,2366,2373,2387,2394,2401,2408,2422,2429,2436,2443,2457,2464,2471,2478,2492,2499,2506,2513,2527,2534,2541,2548,2562,2569,2576,2583,2597,2604,2611,2618,2632,2639,2646,2653,2667,2674,2681,2688,2702,2709,2716,2723,2737,2744,2751,2758,2772,2779,2786,2793,2807,2814,2821,2828,2842,2849,2856,2863,2877,2884,2891,2898,2912,2919,2926,2933,2947,2954,2961,2968,2982,2989,2996,3003,3017,3024,3031,3038,3052,3059,3066,3073,3087,3094,3101,3108,3122,3129,3136,3143,3157,3164,3171,3178,3192,3199\n"
     ]
    }
   ],
   "source": [
    "# Ex6:  Write a program which will find all such numbers which are divisible by 7\n",
    "# but are not a multiple of 5, between 2000 and 3200 (both included).\n",
    "# The numbers obtained should be printed in a comma-separated sequence on a single line.\n",
    "\n",
    "\n",
    "def magic_num(left: int, right: int):\n",
    "    ret = []\n",
    "    step = 1\n",
    "    while left <= right:\n",
    "        if left % 7 == 0 and left % 5 != 0:\n",
    "            ret.append(left)\n",
    "            step = 7\n",
    "\n",
    "        left = left + step\n",
    "\n",
    "    return \",\".join([str(x) for x in ret])\n",
    "\n",
    "\n",
    "print(magic_num(2000, 3200))"
   ]
  },
  {
   "cell_type": "markdown",
   "id": "b896526c",
   "metadata": {},
   "source": [
    "# Exercise 7"
   ]
  },
  {
   "cell_type": "code",
   "execution_count": 15,
   "id": "3fd31ee6",
   "metadata": {},
   "outputs": [
    {
     "name": "stdout",
     "output_type": "stream",
     "text": [
      "2000,2002,2004,2006,2008,2020,2022,2024,2026,2028,2040,2042,2044,2046,2048,2060,2062,2064,2066,2068,2080,2082,2084,2086,2088,2200,2202,2204,2206,2208,2220,2222,2224,2226,2228,2240,2242,2244,2246,2248,2260,2262,2264,2266,2268,2280,2282,2284,2286,2288,2400,2402,2404,2406,2408,2420,2422,2424,2426,2428,2440,2442,2444,2446,2448,2460,2462,2464,2466,2468,2480,2482,2484,2486,2488,2600,2602,2604,2606,2608,2620,2622,2624,2626,2628,2640,2642,2644,2646,2648,2660,2662,2664,2666,2668,2680,2682,2684,2686,2688,2800,2802,2804,2806,2808,2820,2822,2824,2826,2828,2840,2842,2844,2846,2848,2860,2862,2864,2866,2868,2880,2882,2884,2886,2888\n"
     ]
    }
   ],
   "source": [
    "# Ex7: Write a program, which will find all such numbers between 1000 and 3000 (both included) such that each digit of the number is an even number.\n",
    "# The numbers obtained should be printed in a comma-separated sequence on a single line.\n",
    "import itertools as it\n",
    "\n",
    "\n",
    "def even_digits(left: int, right: int):\n",
    "    EVEN_NUMS = [0, 2, 4, 6, 8]\n",
    "    right_digit_count = len(str(right))\n",
    "    ret = []\n",
    "    for valid_num in it.product(EVEN_NUMS, repeat=right_digit_count):\n",
    "        num = int(\"\".join(str(x) for x in valid_num))\n",
    "        if num < left or num > right:\n",
    "            continue\n",
    "\n",
    "        ret.append(num)\n",
    "\n",
    "    return \",\".join(str(x) for x in ret)\n",
    "\n",
    "\n",
    "print(even_digits(1000, 3000))"
   ]
  },
  {
   "cell_type": "markdown",
   "id": "c8846efd",
   "metadata": {},
   "source": [
    "# Exercise 8"
   ]
  },
  {
   "cell_type": "code",
   "execution_count": 16,
   "id": "a8c0011d",
   "metadata": {},
   "outputs": [],
   "source": [
    "# Ex8: Let user type 2 words in English as input. Print out the output\n",
    "# which is the shortest chain according to the following rules:\n",
    "# - Each word in the chain has at least 3 letters\n",
    "# - The 2 input words from user will be used as the first and the last words of the chain\n",
    "# - 2 last letters of 1 word will be the same as 2 first letters of the next word in the chain\n",
    "# - All the words are from the file wordsEn.txt\n",
    "# - If there are multiple shortest chains, return any of them is sufficient\n",
    "\n",
    "# note: bfs "
   ]
  }
 ],
 "metadata": {
  "kernelspec": {
   "display_name": "Python 3",
   "language": "python",
   "name": "python3"
  },
  "language_info": {
   "codemirror_mode": {
    "name": "ipython",
    "version": 3
   },
   "file_extension": ".py",
   "mimetype": "text/x-python",
   "name": "python",
   "nbconvert_exporter": "python",
   "pygments_lexer": "ipython3",
   "version": "3.9.6"
  }
 },
 "nbformat": 4,
 "nbformat_minor": 5
}
