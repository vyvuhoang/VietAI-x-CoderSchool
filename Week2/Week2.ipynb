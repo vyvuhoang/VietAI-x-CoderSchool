{
 "cells": [
  {
   "cell_type": "markdown",
   "id": "57dd8d9e",
   "metadata": {},
   "source": [
    "# Exercise 1"
   ]
  },
  {
   "cell_type": "code",
   "execution_count": 24,
   "id": "7b3bc33d",
   "metadata": {},
   "outputs": [
    {
     "name": "stdout",
     "output_type": "stream",
     "text": [
      "[37 36 35 34 33 32 31 30 29 28 27 26 25 24 23 22 21 20 19 18 17 16 15 14\n",
      " 13 12]\n"
     ]
    }
   ],
   "source": [
    "# Ex1: Write a NumPy program to reverse an array (first element becomes last).\n",
    "# Input: [12 13 14 15 16 17 18 19 20 21 22 23 24 25 26 27 28 29 30 31 32 33 34 35 36 37]\n",
    "\n",
    "# reverse_np_array(input: list) -> np.array\n",
    "\n",
    "import numpy as np\n",
    "\n",
    "\n",
    "def reverse_np_array(input: list) -> np.array:\n",
    "    return np.flip(np.array(input))\n",
    "\n",
    "\n",
    "input = [\n",
    "    12,\n",
    "    13,\n",
    "    14,\n",
    "    15,\n",
    "    16,\n",
    "    17,\n",
    "    18,\n",
    "    19,\n",
    "    20,\n",
    "    21,\n",
    "    22,\n",
    "    23,\n",
    "    24,\n",
    "    25,\n",
    "    26,\n",
    "    27,\n",
    "    28,\n",
    "    29,\n",
    "    30,\n",
    "    31,\n",
    "    32,\n",
    "    33,\n",
    "    34,\n",
    "    35,\n",
    "    36,\n",
    "    37,\n",
    "]\n",
    "\n",
    "print(reverse_np_array(input))"
   ]
  },
  {
   "cell_type": "markdown",
   "id": "81480123",
   "metadata": {},
   "source": [
    "# Exercise 2 "
   ]
  },
  {
   "cell_type": "code",
   "execution_count": 25,
   "id": "539714a5",
   "metadata": {},
   "outputs": [
    {
     "name": "stdout",
     "output_type": "stream",
     "text": [
      "[False  True False  True False]\n"
     ]
    }
   ],
   "source": [
    "# Ex2: Write a NumPy program to test whether each element of a 1-D array is also present in a second array\n",
    "# Input Array1: [ 0,10, 20, 40, 60]\n",
    "#       Array2: [10, 30, 40]\n",
    "\n",
    "# exist(arr1: list, arr2: list) -> dict\n",
    "import numpy as np\n",
    "\n",
    "\n",
    "def exist(arr1: list, arr2: list) -> list:\n",
    "    if not arr1 or not arr2:\n",
    "        return None\n",
    "\n",
    "    return np.isin(np.array(arr1), np.array(arr2))\n",
    "\n",
    "\n",
    "print(exist([0, 10, 20, 40, 60], [10, 30, 40]))"
   ]
  },
  {
   "cell_type": "markdown",
   "id": "0376138e",
   "metadata": {},
   "source": [
    "# Exercise 3"
   ]
  },
  {
   "cell_type": "code",
   "execution_count": 26,
   "id": "2080da3c",
   "metadata": {},
   "outputs": [
    {
     "name": "stdout",
     "output_type": "stream",
     "text": [
      "{'max': np.int64(7), 'min': np.int64(5)}\n"
     ]
    }
   ],
   "source": [
    "# Ex3: Write a NumPy program to find the indices of the maximum and minimum values along the given axis of an array\n",
    "# Input Array [1,6,4,8,9,-4,-2,11]\n",
    "\n",
    "# min_max(arr: list) -> dict\n",
    "\n",
    "\n",
    "def min_max(arr: list) -> dict:\n",
    "    if len(arr) < 2:\n",
    "        return None\n",
    "\n",
    "    return {\n",
    "        \"max\": np.argmax(np.array(arr)),\n",
    "        \"min\": np.argmin(np.array(arr)),\n",
    "    }\n",
    "\n",
    "print(min_max([1,6,4,8,9,-4,-2,11]))"
   ]
  },
  {
   "cell_type": "markdown",
   "id": "b7b28d2b",
   "metadata": {},
   "source": [
    "# Exercise 4 "
   ]
  },
  {
   "cell_type": "code",
   "execution_count": 27,
   "id": "edc8dca6",
   "metadata": {},
   "outputs": [
    {
     "name": "stdout",
     "output_type": "stream",
     "text": [
      "the: 1543\n",
      "and: 791\n",
      "to: 729\n",
      "a: 626\n",
      "I: 538\n",
      "it: 535\n",
      "she: 513\n",
      "of: 503\n",
      "said: 464\n",
      "Alice: 401\n",
      "in: 360\n",
      "was: 358\n",
      "you: 356\n",
      "that: 288\n",
      "her: 249\n",
      "as: 245\n",
      "t: 217\n",
      "s: 206\n",
      "at: 199\n",
      "with: 191\n",
      "on: 188\n",
      "had: 179\n",
      "all: 176\n",
      "be: 150\n",
      "very: 141\n",
      "for: 138\n",
      "not: 136\n",
      "little: 131\n",
      "they: 129\n",
      "but: 128\n",
      "so: 127\n",
      "this: 122\n",
      "The: 117\n",
      "out: 115\n",
      "is: 107\n",
      "what: 103\n",
      "down: 102\n",
      "one: 101\n",
      "he: 101\n",
      "up: 99\n",
      "his: 97\n",
      "about: 94\n",
      "them: 87\n",
      "like: 85\n",
      "were: 85\n",
      "again: 85\n",
      "know: 85\n",
      "herself: 83\n",
      "or: 82\n",
      "went: 81\n",
      "Queen: 79\n",
      "And: 78\n",
      "could: 78\n",
      "would: 77\n",
      "have: 76\n",
      "if: 75\n",
      "thought: 73\n",
      "into: 72\n",
      "no: 71\n",
      "then: 71\n",
      "It: 69\n",
      "when: 69\n",
      "time: 67\n",
      "off: 67\n",
      "do: 67\n",
      "there: 66\n",
      "see: 65\n",
      "me: 65\n",
      "by: 63\n",
      "your: 61\n",
      "m: 61\n",
      "King: 61\n",
      "Turtle: 60\n",
      "its: 59\n",
      "did: 59\n",
      "Mock: 58\n",
      "began: 58\n",
      "can: 57\n",
      "quite: 55\n",
      "ll: 55\n",
      "my: 55\n",
      "Hatter: 55\n",
      "Gryphon: 55\n",
      "You: 54\n",
      "an: 53\n",
      "head: 53\n",
      "way: 53\n",
      "are: 52\n",
      "some: 52\n",
      "think: 52\n",
      "don: 52\n",
      "who: 51\n",
      "much: 51\n",
      "their: 51\n",
      "thing: 50\n",
      "more: 49\n",
      "say: 49\n",
      "now: 48\n",
      "go: 48\n",
      "voice: 47\n",
      "\n"
     ]
    }
   ],
   "source": [
    "# Ex4: Read the entire file story.txt and write a program to print out top 100 words occur most\n",
    "# frequently and their corresponding appearance. You could ignore all\n",
    "# punction characters such as comma, dot, semicolon, ...\n",
    "# Sample output:\n",
    "# house: 453\n",
    "# dog: 440\n",
    "# people: 312\n",
    "# ...\n",
    "\n",
    "# function signature:\n",
    "# top_words(file_name: str, threshold: int) -> str\n",
    "\n",
    "import re\n",
    "from collections import Counter\n",
    "\n",
    "\n",
    "def top_words(file_name: str, threshold: int):\n",
    "    with open(file_name, \"r\") as file:\n",
    "        content = file.read()\n",
    "        # ignore punction characters\n",
    "        words = re.findall(r\"\\b\\w+\", content)\n",
    "    # use built-in hash map\n",
    "    # use most_common method to get top k words\n",
    "    count_map = Counter(words).most_common(threshold)\n",
    "\n",
    "    return ''.join([f\"{key}: {val}\\n\" for key, val in count_map])\n",
    "\n",
    "print(top_words(\"story.txt\", 100))"
   ]
  }
 ],
 "metadata": {
  "kernelspec": {
   "display_name": "Python 3",
   "language": "python",
   "name": "python3"
  },
  "language_info": {
   "codemirror_mode": {
    "name": "ipython",
    "version": 3
   },
   "file_extension": ".py",
   "mimetype": "text/x-python",
   "name": "python",
   "nbconvert_exporter": "python",
   "pygments_lexer": "ipython3",
   "version": "3.10.12"
  }
 },
 "nbformat": 4,
 "nbformat_minor": 5
}
