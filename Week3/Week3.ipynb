{
 "cells": [
  {
   "cell_type": "markdown",
   "id": "82d12dc0",
   "metadata": {},
   "source": [
    "# Import "
   ]
  },
  {
   "cell_type": "code",
   "execution_count": 10,
   "id": "43026d40",
   "metadata": {},
   "outputs": [],
   "source": [
    "import gensim.downloader as api\n",
    "import numpy as np"
   ]
  },
  {
   "cell_type": "code",
   "execution_count": 11,
   "id": "f0ca5623",
   "metadata": {},
   "outputs": [
    {
     "name": "stdout",
     "output_type": "stream",
     "text": [
      "[ 1.5570e-01 -3.1625e-01 -2.1250e-01  4.1405e-01 -2.4336e-01 -2.5814e-01\n",
      "  6.0198e-01 -1.2874e-02 -2.5801e-01 -1.1705e-01 -1.0161e+00 -3.4759e-01\n",
      " -5.9778e-01 -5.2477e-02 -5.3001e-01  3.7903e-01 -8.3192e-02 -3.9779e-01\n",
      "  5.7424e-02 -5.0426e-01  3.7946e-01 -6.5643e-01 -2.7971e-01  4.0682e-01\n",
      "  8.1117e-02  1.0869e+00 -6.1673e-01  5.2669e-01  3.1021e-01  5.6527e-03\n",
      "  4.4281e-02  9.0971e-03  1.3414e-01  2.0696e-01 -1.0175e-01 -3.5890e-01\n",
      "  1.9712e-01 -4.0642e-01  4.3239e-02  2.0279e-01 -2.4207e-01 -6.4675e-01\n",
      "  7.8314e-03  4.2094e-02  8.0452e-02  3.2765e-01  4.7841e-01 -4.1913e-02\n",
      " -9.0236e-01 -2.0209e-01 -5.6725e-01  2.3022e-01 -2.5976e-01 -6.0808e-01\n",
      "  1.4408e-01  1.0924e-01  4.2314e-01 -3.0322e-02  2.1711e-01 -3.6142e-01\n",
      " -1.5254e-01 -3.4457e-01  1.6548e-01 -4.1695e-01  2.5581e-01  3.7149e-01\n",
      " -4.1998e-01  2.7614e-01 -2.2522e-01 -7.7013e-02 -8.3949e-02 -2.6755e-01\n",
      "  2.0316e-01  2.9918e-01  4.1178e-01  1.8117e-01  6.5023e-03 -6.1069e-02\n",
      " -3.2265e-01  4.7050e-01  9.1838e-01  2.6017e-01  3.1159e-01 -5.3799e-02\n",
      "  8.4250e-02  6.3240e-02  5.6744e-01  5.9088e-01 -5.4755e-01  1.3245e-01\n",
      "  2.1076e-02 -1.1548e-01 -2.1673e-01  1.3272e-02 -3.4715e-01 -1.1700e-01\n",
      "  1.9569e-01 -1.5177e-01  4.5602e-01 -6.7312e-02 -6.9728e-01  4.9557e-01\n",
      " -4.3653e-01 -3.0676e-01 -7.4978e-02  5.1795e-01  6.3797e-01 -2.0271e-01\n",
      " -5.0799e-01  5.1787e-01 -1.0125e-01 -3.8138e-04  1.5804e-01  9.3620e-01\n",
      " -1.1985e-01 -5.3944e-01 -7.5679e-01 -4.1353e-01 -3.2972e-01  6.2269e-01\n",
      "  2.6107e-01  8.7516e-02  2.5388e-03  4.4929e-02 -1.8619e-01  1.2925e-01\n",
      "  2.2935e-01 -7.7013e-01  8.8741e-02  3.5210e-01  8.8734e-01 -9.9508e-02\n",
      " -2.8114e-02  4.1568e-01  3.5324e-01  6.1947e-01  1.9733e-01 -7.3618e-02\n",
      " -6.0073e-01  1.7546e-01 -1.8385e-01  2.9349e-01  3.9509e-01 -1.0240e-01\n",
      " -3.8513e-01  6.7502e-02 -3.8083e-01  2.9146e-01 -8.3121e-02  1.0551e-02\n",
      " -1.7029e-01 -1.1733e-01 -4.7544e+00  1.4895e-01  7.3434e-02  1.3058e-01\n",
      " -2.0732e-01  2.6272e-01  1.0694e-01  4.1124e-03  4.0416e-01 -4.9547e-01\n",
      " -1.0541e+00  4.6204e-01  2.6830e-01 -3.7641e-01  3.2295e-02 -2.4331e-01\n",
      "  1.7689e-01  5.2140e-01  1.5279e-01 -6.0996e-01  1.1451e-01  1.8434e-01\n",
      "  3.8155e-01  9.0601e-01  1.1813e-01 -7.9879e-01  3.6207e-01 -2.2683e-01\n",
      "  1.2397e-01 -9.5020e-02  5.3296e-04 -1.1416e-02 -2.2240e-01 -4.7936e-01\n",
      " -6.6377e-01  2.7190e-01 -1.3010e-01 -3.5033e-01  4.5032e-01 -1.4985e-01\n",
      "  5.9429e-01  2.3283e-01  4.1755e-01  2.2472e-01 -9.2631e-03 -7.3651e-01\n",
      " -3.7381e-01 -5.1844e-01]\n"
     ]
    }
   ],
   "source": [
    "# 25, 50, 100 or 200. Số càng lớn thì càng chính xác, nhưng chạy càng lâu các bạn nhé\n",
    "model = api.load(\"glove-twitter-200\")\n",
    "word = \"beautiful\"\n",
    "print(model[word])"
   ]
  },
  {
   "cell_type": "markdown",
   "id": "1831d560",
   "metadata": {},
   "source": [
    "# Section 1 for word2vec"
   ]
  },
  {
   "cell_type": "code",
   "execution_count": 12,
   "id": "209b3dc4",
   "metadata": {},
   "outputs": [
    {
     "name": "stdout",
     "output_type": "stream",
     "text": [
      "1----------\n",
      "[('gorgeous', 0.8635486960411072), ('amazing', 0.8066424131393433), ('lovely', 0.8024446964263916), ('wonderful', 0.7974167466163635), ('stunning', 0.7667908668518066), ('perfect', 0.7646695375442505), ('pretty', 0.7626513242721558), ('love', 0.7306696176528931), ('great', 0.7199928164482117), ('nice', 0.7046647071838379)]\n"
     ]
    }
   ],
   "source": [
    "print(\"1----------\")\n",
    "result = model.most_similar(word, topn=10)\n",
    "print(result)"
   ]
  },
  {
   "cell_type": "markdown",
   "id": "b2bb52cb",
   "metadata": {},
   "source": [
    "# Section 2 for word2vec"
   ]
  },
  {
   "cell_type": "code",
   "execution_count": 13,
   "id": "470049ec",
   "metadata": {},
   "outputs": [
    {
     "name": "stdout",
     "output_type": "stream",
     "text": [
      "2----------\n",
      "[('december', 0.907620370388031), ('june', 0.9018447399139404), ('march', 0.8975364565849304), ('october', 0.8945881128311157), ('august', 0.8828887939453125), ('july', 0.8735243082046509), ('november', 0.8638648390769958), ('september', 0.8534838557243347), ('april', 0.8389039635658264), ('feb.', 0.7601770758628845)]\n"
     ]
    }
   ],
   "source": [
    "print(\"2----------\")\n",
    "result = model.most_similar(positive=[\"january\", \"february\"], topn=10)\n",
    "print(result)"
   ]
  },
  {
   "cell_type": "markdown",
   "id": "e0f0dccf",
   "metadata": {},
   "source": [
    "# Section 3 for word2vec"
   ]
  },
  {
   "cell_type": "code",
   "execution_count": 14,
   "id": "fe3d7b10",
   "metadata": {},
   "outputs": [
    {
     "name": "stdout",
     "output_type": "stream",
     "text": [
      "3----------\n",
      "0.66136074\n"
     ]
    }
   ],
   "source": [
    "print(\"3----------\")\n",
    "result = model.similarity(\"man\", \"woman\")\n",
    "print(result)"
   ]
  },
  {
   "cell_type": "markdown",
   "id": "5b0882e6",
   "metadata": {},
   "source": [
    "# Section 4 for word2vec"
   ]
  },
  {
   "cell_type": "code",
   "execution_count": 15,
   "id": "44e9abb9",
   "metadata": {},
   "outputs": [
    {
     "name": "stdout",
     "output_type": "stream",
     "text": [
      "4----------\n",
      "[('queen', 0.6820898652076721)]\n"
     ]
    }
   ],
   "source": [
    "print(\"4----------\")\n",
    "result = model.most_similar(positive=[\"woman\", \"king\"], negative=[\"man\"], topn=1)\n",
    "print(result)"
   ]
  },
  {
   "cell_type": "markdown",
   "id": "699ce02d",
   "metadata": {},
   "source": [
    "# Section 5 for word2vec"
   ]
  },
  {
   "cell_type": "code",
   "execution_count": 16,
   "id": "839db716",
   "metadata": {},
   "outputs": [
    {
     "name": "stdout",
     "output_type": "stream",
     "text": [
      "5----------\n",
      "[('germany', 0.6267244219779968)]\n"
     ]
    }
   ],
   "source": [
    "print(\"5----------\")\n",
    "result = model.most_similar(positive=[\"berlin\", \"vietnam\"], negative=[\"hanoi\"], topn=1)\n",
    "print(result)"
   ]
  },
  {
   "cell_type": "markdown",
   "id": "56cb5216",
   "metadata": {},
   "source": [
    "# Section 6 for word2vec"
   ]
  },
  {
   "cell_type": "code",
   "execution_count": 17,
   "id": "3f7d3740",
   "metadata": {},
   "outputs": [
    {
     "name": "stdout",
     "output_type": "stream",
     "text": [
      "6----------\n",
      "0.3516945\n"
     ]
    }
   ],
   "source": [
    "print(\"6----------\")\n",
    "result = model.similarity(\"marriage\", \"happiness\")\n",
    "print(result)"
   ]
  },
  {
   "cell_type": "code",
   "execution_count": 2,
   "id": "68e2391b",
   "metadata": {},
   "outputs": [
    {
     "name": "stdout",
     "output_type": "stream",
     "text": [
      "0.9746318461970762\n",
      "0.9746318461970762\n"
     ]
    }
   ],
   "source": [
    "\n",
    "#TODO: Các bạn thử viết 2 cách khác nhau để tính cosine similarity\n",
    "# giữa 2 vector nhé. Kết quả giống với khi dùng model.similarity() là được\n",
    "# 1 cách là dùng numpy, 1 cách là không dùng numpy nhé\n",
    "\n",
    "\n",
    "import numpy as np\n",
    "\n",
    "def with_np(vec1, vec2):\n",
    "    dot_product = np.dot(vec1, vec2)\n",
    "    norm_vec1 = np.linalg.norm(vec1)\n",
    "    norm_vec2 = np.linalg.norm(vec2)\n",
    "    return dot_product / (norm_vec1 * norm_vec2)\n",
    "\n",
    "def without_np(vec1, vec2):\n",
    "    dot_product = sum(x * y for x, y in zip(vec1, vec2))\n",
    "    norm_vec1 = sum(x * x for x in vec1) ** 0.5\n",
    "    norm_vec2 = sum(y * y for y in vec2) ** 0.5\n",
    "    return dot_product / (norm_vec1 * norm_vec2)\n",
    "\n",
    "vec1 = [1, 2, 3]\n",
    "vec2 = [4, 5, 6]\n",
    "\n",
    "print(with_np(vec1, vec2))\n",
    "print(without_np(vec1, vec2))"
   ]
  }
 ],
 "metadata": {
  "kernelspec": {
   "display_name": "Python 3",
   "language": "python",
   "name": "python3"
  },
  "language_info": {
   "codemirror_mode": {
    "name": "ipython",
    "version": 3
   },
   "file_extension": ".py",
   "mimetype": "text/x-python",
   "name": "python",
   "nbconvert_exporter": "python",
   "pygments_lexer": "ipython3",
   "version": "3.9.6"
  }
 },
 "nbformat": 4,
 "nbformat_minor": 5
}
